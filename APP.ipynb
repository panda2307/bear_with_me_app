{
  "nbformat": 4,
  "nbformat_minor": 0,
  "metadata": {
    "colab": {
      "name": "APP.ipynb",
      "provenance": [],
      "collapsed_sections": []
    },
    "kernelspec": {
      "name": "python3",
      "display_name": "Python 3"
    },
    "widgets": {
      "application/vnd.jupyter.widget-state+json": {
        "388895f7affb4df584e3d573b843e87c": {
          "model_module": "@jupyter-widgets/controls",
          "model_name": "FileUploadModel",
          "state": {
            "_view_name": "FileUploadView",
            "_counter": 1,
            "style": "IPY_MODEL_62f0f9415d8944f2a19639b18f9c83dd",
            "_dom_classes": [],
            "description": "Upload",
            "multiple": false,
            "_model_name": "FileUploadModel",
            "data": [
              null
            ],
            "button_style": "",
            "_view_module": "@jupyter-widgets/controls",
            "_model_module_version": "1.5.0",
            "accept": "",
            "_view_count": null,
            "disabled": false,
            "_view_module_version": "1.5.0",
            "error": "",
            "description_tooltip": null,
            "metadata": [
              {
                "name": "gettyimages-673968470-e1561660080465.jpg",
                "type": "image/jpeg",
                "size": 94371,
                "lastModified": 1599669956427
              }
            ],
            "_model_module": "@jupyter-widgets/controls",
            "layout": "IPY_MODEL_c165238f219f4b2aba23108dec45736a",
            "icon": "upload"
          }
        },
        "62f0f9415d8944f2a19639b18f9c83dd": {
          "model_module": "@jupyter-widgets/controls",
          "model_name": "ButtonStyleModel",
          "state": {
            "_view_name": "StyleView",
            "_model_name": "ButtonStyleModel",
            "_view_module": "@jupyter-widgets/base",
            "_model_module_version": "1.5.0",
            "_view_count": null,
            "button_color": null,
            "font_weight": "",
            "_view_module_version": "1.2.0",
            "_model_module": "@jupyter-widgets/controls"
          }
        },
        "c165238f219f4b2aba23108dec45736a": {
          "model_module": "@jupyter-widgets/base",
          "model_name": "LayoutModel",
          "state": {
            "_view_name": "LayoutView",
            "grid_template_rows": null,
            "right": null,
            "justify_content": null,
            "_view_module": "@jupyter-widgets/base",
            "overflow": null,
            "_model_module_version": "1.2.0",
            "_view_count": null,
            "flex_flow": null,
            "width": null,
            "min_width": null,
            "border": null,
            "align_items": null,
            "bottom": null,
            "_model_module": "@jupyter-widgets/base",
            "top": null,
            "grid_column": null,
            "overflow_y": null,
            "overflow_x": null,
            "grid_auto_flow": null,
            "grid_area": null,
            "grid_template_columns": null,
            "flex": null,
            "_model_name": "LayoutModel",
            "justify_items": null,
            "grid_row": null,
            "max_height": null,
            "align_content": null,
            "visibility": null,
            "align_self": null,
            "height": null,
            "min_height": null,
            "padding": null,
            "grid_auto_rows": null,
            "grid_gap": null,
            "max_width": null,
            "order": null,
            "_view_module_version": "1.2.0",
            "grid_template_areas": null,
            "object_position": null,
            "object_fit": null,
            "grid_auto_columns": null,
            "margin": null,
            "display": null,
            "left": null
          }
        },
        "0481e44aa21648b99d36f7791e6c48cb": {
          "model_module": "@jupyter-widgets/output",
          "model_name": "OutputModel",
          "state": {
            "_view_name": "OutputView",
            "msg_id": "",
            "_dom_classes": [],
            "_model_name": "OutputModel",
            "outputs": [
              {
                "output_type": "display_data",
                "metadata": {
                  "tags": []
                },
                "image/png": "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\n",
                "text/plain": "<PIL.Image.Image image mode=RGB size=124x128 at 0x7F3942E93DA0>"
              }
            ],
            "_view_module": "@jupyter-widgets/output",
            "_model_module_version": "1.0.0",
            "_view_count": null,
            "_view_module_version": "1.0.0",
            "layout": "IPY_MODEL_7139c08b0da84002b01d151a40ee6549",
            "_model_module": "@jupyter-widgets/output"
          }
        },
        "7139c08b0da84002b01d151a40ee6549": {
          "model_module": "@jupyter-widgets/base",
          "model_name": "LayoutModel",
          "state": {
            "_view_name": "LayoutView",
            "grid_template_rows": null,
            "right": null,
            "justify_content": null,
            "_view_module": "@jupyter-widgets/base",
            "overflow": null,
            "_model_module_version": "1.2.0",
            "_view_count": null,
            "flex_flow": null,
            "width": null,
            "min_width": null,
            "border": null,
            "align_items": null,
            "bottom": null,
            "_model_module": "@jupyter-widgets/base",
            "top": null,
            "grid_column": null,
            "overflow_y": null,
            "overflow_x": null,
            "grid_auto_flow": null,
            "grid_area": null,
            "grid_template_columns": null,
            "flex": null,
            "_model_name": "LayoutModel",
            "justify_items": null,
            "grid_row": null,
            "max_height": null,
            "align_content": null,
            "visibility": null,
            "align_self": null,
            "height": null,
            "min_height": null,
            "padding": null,
            "grid_auto_rows": null,
            "grid_gap": null,
            "max_width": null,
            "order": null,
            "_view_module_version": "1.2.0",
            "grid_template_areas": null,
            "object_position": null,
            "object_fit": null,
            "grid_auto_columns": null,
            "margin": null,
            "display": null,
            "left": null
          }
        },
        "1a3adf5276204fed9c311bc6fedcb56b": {
          "model_module": "@jupyter-widgets/controls",
          "model_name": "LabelModel",
          "state": {
            "_view_name": "LabelView",
            "style": "IPY_MODEL_e67f331029a94864a3fdb12018b768f3",
            "_dom_classes": [],
            "description": "",
            "_model_name": "LabelModel",
            "placeholder": "​",
            "_view_module": "@jupyter-widgets/controls",
            "_model_module_version": "1.5.0",
            "value": "Prediction: teddy; Probability: 0.5323",
            "_view_count": null,
            "_view_module_version": "1.5.0",
            "description_tooltip": null,
            "_model_module": "@jupyter-widgets/controls",
            "layout": "IPY_MODEL_5209d145d18d42a09915473d5ab7cfa1"
          }
        },
        "e67f331029a94864a3fdb12018b768f3": {
          "model_module": "@jupyter-widgets/controls",
          "model_name": "DescriptionStyleModel",
          "state": {
            "_view_name": "StyleView",
            "_model_name": "DescriptionStyleModel",
            "description_width": "",
            "_view_module": "@jupyter-widgets/base",
            "_model_module_version": "1.5.0",
            "_view_count": null,
            "_view_module_version": "1.2.0",
            "_model_module": "@jupyter-widgets/controls"
          }
        },
        "5209d145d18d42a09915473d5ab7cfa1": {
          "model_module": "@jupyter-widgets/base",
          "model_name": "LayoutModel",
          "state": {
            "_view_name": "LayoutView",
            "grid_template_rows": null,
            "right": null,
            "justify_content": null,
            "_view_module": "@jupyter-widgets/base",
            "overflow": null,
            "_model_module_version": "1.2.0",
            "_view_count": null,
            "flex_flow": null,
            "width": null,
            "min_width": null,
            "border": null,
            "align_items": null,
            "bottom": null,
            "_model_module": "@jupyter-widgets/base",
            "top": null,
            "grid_column": null,
            "overflow_y": null,
            "overflow_x": null,
            "grid_auto_flow": null,
            "grid_area": null,
            "grid_template_columns": null,
            "flex": null,
            "_model_name": "LayoutModel",
            "justify_items": null,
            "grid_row": null,
            "max_height": null,
            "align_content": null,
            "visibility": null,
            "align_self": null,
            "height": null,
            "min_height": null,
            "padding": null,
            "grid_auto_rows": null,
            "grid_gap": null,
            "max_width": null,
            "order": null,
            "_view_module_version": "1.2.0",
            "grid_template_areas": null,
            "object_position": null,
            "object_fit": null,
            "grid_auto_columns": null,
            "margin": null,
            "display": null,
            "left": null
          }
        },
        "bd92b042ec974ab19562f5b223c06d64": {
          "model_module": "@jupyter-widgets/controls",
          "model_name": "VBoxModel",
          "state": {
            "_view_name": "VBoxView",
            "_dom_classes": [],
            "_model_name": "VBoxModel",
            "_view_module": "@jupyter-widgets/controls",
            "_model_module_version": "1.5.0",
            "_view_count": null,
            "_view_module_version": "1.5.0",
            "box_style": "",
            "layout": "IPY_MODEL_1d5e45874ee54bf794f38df64e6aa389",
            "_model_module": "@jupyter-widgets/controls",
            "children": [
              "IPY_MODEL_19e607f505a8469f861f878d30bf6afa",
              "IPY_MODEL_b201ffe995cf47d989f7b0f3a548d83a",
              "IPY_MODEL_b9fccc8658c64446b02d2874b6197dcf",
              "IPY_MODEL_0481e44aa21648b99d36f7791e6c48cb",
              "IPY_MODEL_1a3adf5276204fed9c311bc6fedcb56b"
            ]
          }
        },
        "1d5e45874ee54bf794f38df64e6aa389": {
          "model_module": "@jupyter-widgets/base",
          "model_name": "LayoutModel",
          "state": {
            "_view_name": "LayoutView",
            "grid_template_rows": null,
            "right": null,
            "justify_content": null,
            "_view_module": "@jupyter-widgets/base",
            "overflow": null,
            "_model_module_version": "1.2.0",
            "_view_count": null,
            "flex_flow": null,
            "width": null,
            "min_width": null,
            "border": null,
            "align_items": null,
            "bottom": null,
            "_model_module": "@jupyter-widgets/base",
            "top": null,
            "grid_column": null,
            "overflow_y": null,
            "overflow_x": null,
            "grid_auto_flow": null,
            "grid_area": null,
            "grid_template_columns": null,
            "flex": null,
            "_model_name": "LayoutModel",
            "justify_items": null,
            "grid_row": null,
            "max_height": null,
            "align_content": null,
            "visibility": null,
            "align_self": null,
            "height": null,
            "min_height": null,
            "padding": null,
            "grid_auto_rows": null,
            "grid_gap": null,
            "max_width": null,
            "order": null,
            "_view_module_version": "1.2.0",
            "grid_template_areas": null,
            "object_position": null,
            "object_fit": null,
            "grid_auto_columns": null,
            "margin": null,
            "display": null,
            "left": null
          }
        },
        "19e607f505a8469f861f878d30bf6afa": {
          "model_module": "@jupyter-widgets/controls",
          "model_name": "LabelModel",
          "state": {
            "_view_name": "LabelView",
            "style": "IPY_MODEL_4bb82bcc4ef041a5ac65eb6243de606e",
            "_dom_classes": [],
            "description": "",
            "_model_name": "LabelModel",
            "placeholder": "​",
            "_view_module": "@jupyter-widgets/controls",
            "_model_module_version": "1.5.0",
            "value": "Select your bear!",
            "_view_count": null,
            "_view_module_version": "1.5.0",
            "description_tooltip": null,
            "_model_module": "@jupyter-widgets/controls",
            "layout": "IPY_MODEL_c487dcf3153540619821fbfd328d3707"
          }
        },
        "b201ffe995cf47d989f7b0f3a548d83a": {
          "model_module": "@jupyter-widgets/controls",
          "model_name": "FileUploadModel",
          "state": {
            "_view_name": "FileUploadView",
            "_counter": 2,
            "style": "IPY_MODEL_e2abb1aaeb704462bcd6dfaf9f57bbeb",
            "_dom_classes": [],
            "description": "Upload",
            "multiple": false,
            "_model_name": "FileUploadModel",
            "data": [
              null
            ],
            "button_style": "",
            "_view_module": "@jupyter-widgets/controls",
            "_model_module_version": "1.5.0",
            "accept": "",
            "_view_count": null,
            "disabled": false,
            "_view_module_version": "1.5.0",
            "error": "",
            "description_tooltip": null,
            "metadata": [
              {
                "name": "download.jfif",
                "type": "image/jpeg",
                "size": 5009,
                "lastModified": 1599670392444
              }
            ],
            "_model_module": "@jupyter-widgets/controls",
            "layout": "IPY_MODEL_fbdbfcd7686f4174a8a566fa58052053",
            "icon": "upload"
          }
        },
        "b9fccc8658c64446b02d2874b6197dcf": {
          "model_module": "@jupyter-widgets/controls",
          "model_name": "ButtonModel",
          "state": {
            "_view_name": "ButtonView",
            "style": "IPY_MODEL_ee25b00affeb4d36a4716580f42a7dd2",
            "_dom_classes": [],
            "description": "Classify",
            "_model_name": "ButtonModel",
            "button_style": "",
            "_view_module": "@jupyter-widgets/controls",
            "_model_module_version": "1.5.0",
            "tooltip": "",
            "_view_count": null,
            "disabled": false,
            "_view_module_version": "1.5.0",
            "layout": "IPY_MODEL_a0b6c0d6ff5a4a9ca3efb9fb497e6418",
            "_model_module": "@jupyter-widgets/controls",
            "icon": ""
          }
        },
        "4bb82bcc4ef041a5ac65eb6243de606e": {
          "model_module": "@jupyter-widgets/controls",
          "model_name": "DescriptionStyleModel",
          "state": {
            "_view_name": "StyleView",
            "_model_name": "DescriptionStyleModel",
            "description_width": "",
            "_view_module": "@jupyter-widgets/base",
            "_model_module_version": "1.5.0",
            "_view_count": null,
            "_view_module_version": "1.2.0",
            "_model_module": "@jupyter-widgets/controls"
          }
        },
        "c487dcf3153540619821fbfd328d3707": {
          "model_module": "@jupyter-widgets/base",
          "model_name": "LayoutModel",
          "state": {
            "_view_name": "LayoutView",
            "grid_template_rows": null,
            "right": null,
            "justify_content": null,
            "_view_module": "@jupyter-widgets/base",
            "overflow": null,
            "_model_module_version": "1.2.0",
            "_view_count": null,
            "flex_flow": null,
            "width": null,
            "min_width": null,
            "border": null,
            "align_items": null,
            "bottom": null,
            "_model_module": "@jupyter-widgets/base",
            "top": null,
            "grid_column": null,
            "overflow_y": null,
            "overflow_x": null,
            "grid_auto_flow": null,
            "grid_area": null,
            "grid_template_columns": null,
            "flex": null,
            "_model_name": "LayoutModel",
            "justify_items": null,
            "grid_row": null,
            "max_height": null,
            "align_content": null,
            "visibility": null,
            "align_self": null,
            "height": null,
            "min_height": null,
            "padding": null,
            "grid_auto_rows": null,
            "grid_gap": null,
            "max_width": null,
            "order": null,
            "_view_module_version": "1.2.0",
            "grid_template_areas": null,
            "object_position": null,
            "object_fit": null,
            "grid_auto_columns": null,
            "margin": null,
            "display": null,
            "left": null
          }
        },
        "e2abb1aaeb704462bcd6dfaf9f57bbeb": {
          "model_module": "@jupyter-widgets/controls",
          "model_name": "ButtonStyleModel",
          "state": {
            "_view_name": "StyleView",
            "_model_name": "ButtonStyleModel",
            "_view_module": "@jupyter-widgets/base",
            "_model_module_version": "1.5.0",
            "_view_count": null,
            "button_color": null,
            "font_weight": "",
            "_view_module_version": "1.2.0",
            "_model_module": "@jupyter-widgets/controls"
          }
        },
        "fbdbfcd7686f4174a8a566fa58052053": {
          "model_module": "@jupyter-widgets/base",
          "model_name": "LayoutModel",
          "state": {
            "_view_name": "LayoutView",
            "grid_template_rows": null,
            "right": null,
            "justify_content": null,
            "_view_module": "@jupyter-widgets/base",
            "overflow": null,
            "_model_module_version": "1.2.0",
            "_view_count": null,
            "flex_flow": null,
            "width": null,
            "min_width": null,
            "border": null,
            "align_items": null,
            "bottom": null,
            "_model_module": "@jupyter-widgets/base",
            "top": null,
            "grid_column": null,
            "overflow_y": null,
            "overflow_x": null,
            "grid_auto_flow": null,
            "grid_area": null,
            "grid_template_columns": null,
            "flex": null,
            "_model_name": "LayoutModel",
            "justify_items": null,
            "grid_row": null,
            "max_height": null,
            "align_content": null,
            "visibility": null,
            "align_self": null,
            "height": null,
            "min_height": null,
            "padding": null,
            "grid_auto_rows": null,
            "grid_gap": null,
            "max_width": null,
            "order": null,
            "_view_module_version": "1.2.0",
            "grid_template_areas": null,
            "object_position": null,
            "object_fit": null,
            "grid_auto_columns": null,
            "margin": null,
            "display": null,
            "left": null
          }
        },
        "ee25b00affeb4d36a4716580f42a7dd2": {
          "model_module": "@jupyter-widgets/controls",
          "model_name": "ButtonStyleModel",
          "state": {
            "_view_name": "StyleView",
            "_model_name": "ButtonStyleModel",
            "_view_module": "@jupyter-widgets/base",
            "_model_module_version": "1.5.0",
            "_view_count": null,
            "button_color": null,
            "font_weight": "",
            "_view_module_version": "1.2.0",
            "_model_module": "@jupyter-widgets/controls"
          }
        },
        "a0b6c0d6ff5a4a9ca3efb9fb497e6418": {
          "model_module": "@jupyter-widgets/base",
          "model_name": "LayoutModel",
          "state": {
            "_view_name": "LayoutView",
            "grid_template_rows": null,
            "right": null,
            "justify_content": null,
            "_view_module": "@jupyter-widgets/base",
            "overflow": null,
            "_model_module_version": "1.2.0",
            "_view_count": null,
            "flex_flow": null,
            "width": null,
            "min_width": null,
            "border": null,
            "align_items": null,
            "bottom": null,
            "_model_module": "@jupyter-widgets/base",
            "top": null,
            "grid_column": null,
            "overflow_y": null,
            "overflow_x": null,
            "grid_auto_flow": null,
            "grid_area": null,
            "grid_template_columns": null,
            "flex": null,
            "_model_name": "LayoutModel",
            "justify_items": null,
            "grid_row": null,
            "max_height": null,
            "align_content": null,
            "visibility": null,
            "align_self": null,
            "height": null,
            "min_height": null,
            "padding": null,
            "grid_auto_rows": null,
            "grid_gap": null,
            "max_width": null,
            "order": null,
            "_view_module_version": "1.2.0",
            "grid_template_areas": null,
            "object_position": null,
            "object_fit": null,
            "grid_auto_columns": null,
            "margin": null,
            "display": null,
            "left": null
          }
        }
      }
    }
  },
  "cells": [
    {
      "cell_type": "code",
      "metadata": {
        "id": "DTG3gsGvrGot",
        "colab_type": "code",
        "colab": {
          "base_uri": "https://localhost:8080/",
          "height": 292
        },
        "outputId": "fda21164-0ae5-4f84-e71b-d8be950eb92b"
      },
      "source": [
        "#hide\n",
        "!pip install -Uqq fastbook\n",
        "import fastbook\n",
        "fastbook.setup_book()"
      ],
      "execution_count": 1,
      "outputs": [
        {
          "output_type": "stream",
          "text": [
            "\u001b[K     |████████████████████████████████| 727kB 2.7MB/s \n",
            "\u001b[K     |████████████████████████████████| 1.0MB 14.3MB/s \n",
            "\u001b[K     |████████████████████████████████| 358kB 20.8MB/s \n",
            "\u001b[K     |████████████████████████████████| 61kB 6.7MB/s \n",
            "\u001b[K     |████████████████████████████████| 51kB 4.7MB/s \n",
            "\u001b[K     |████████████████████████████████| 40kB 4.0MB/s \n",
            "\u001b[K     |████████████████████████████████| 92kB 6.8MB/s \n",
            "\u001b[K     |████████████████████████████████| 61kB 5.6MB/s \n",
            "\u001b[K     |████████████████████████████████| 51kB 5.5MB/s \n",
            "\u001b[K     |████████████████████████████████| 2.6MB 19.1MB/s \n",
            "\u001b[?25hGo to this URL in a browser: https://accounts.google.com/o/oauth2/auth?client_id=947318989803-6bn6qk8qdgf4n4g3pfee6491hc0brc4i.apps.googleusercontent.com&redirect_uri=urn%3aietf%3awg%3aoauth%3a2.0%3aoob&scope=email%20https%3a%2f%2fwww.googleapis.com%2fauth%2fdocs.test%20https%3a%2f%2fwww.googleapis.com%2fauth%2fdrive%20https%3a%2f%2fwww.googleapis.com%2fauth%2fdrive.photos.readonly%20https%3a%2f%2fwww.googleapis.com%2fauth%2fpeopleapi.readonly&response_type=code\n",
            "\n",
            "Enter your authorization code:\n",
            "4/3wGjF03OFTwWf-Y5sery6y_5xpSQCCtxlE7pLO80W7Ul3U-kePa22QE\n",
            "Mounted at /content/gdrive\n"
          ],
          "name": "stdout"
        }
      ]
    },
    {
      "cell_type": "code",
      "metadata": {
        "id": "QV2vVRVns4Xr",
        "colab_type": "code",
        "colab": {}
      },
      "source": [
        "#hide\n",
        "from fastbook import *\n",
        "from fastai.vision.widgets import *"
      ],
      "execution_count": 2,
      "outputs": []
    },
    {
      "cell_type": "code",
      "metadata": {
        "id": "8gfgT67CwPJ8",
        "colab_type": "code",
        "colab": {
          "base_uri": "https://localhost:8080/",
          "height": 34
        },
        "outputId": "031644d7-f9bd-4515-ab2c-3bc34ebb9cbf"
      },
      "source": [
        "path = Path()\n",
        "path.ls(file_exts='.pkl')"
      ],
      "execution_count": 3,
      "outputs": [
        {
          "output_type": "execute_result",
          "data": {
            "text/plain": [
              "(#1) [Path('export.pkl')]"
            ]
          },
          "metadata": {
            "tags": []
          },
          "execution_count": 3
        }
      ]
    },
    {
      "cell_type": "code",
      "metadata": {
        "id": "CpEuIhBrtCvX",
        "colab_type": "code",
        "colab": {}
      },
      "source": [
        "learn_inf = load_learner(path/'export.pkl')"
      ],
      "execution_count": 4,
      "outputs": []
    },
    {
      "cell_type": "code",
      "metadata": {
        "id": "Ks9RfUt0wRLv",
        "colab_type": "code",
        "colab": {
          "base_uri": "https://localhost:8080/",
          "height": 34
        },
        "outputId": "a9f2be99-b566-4748-af20-8b1e778a2997"
      },
      "source": [
        "learn_inf.dls.vocab"
      ],
      "execution_count": 5,
      "outputs": [
        {
          "output_type": "execute_result",
          "data": {
            "text/plain": [
              "(#3) ['black','grizzly','teddy']"
            ]
          },
          "metadata": {
            "tags": []
          },
          "execution_count": 5
        }
      ]
    },
    {
      "cell_type": "code",
      "metadata": {
        "id": "zWuJu63ywUn0",
        "colab_type": "code",
        "colab": {
          "base_uri": "https://localhost:8080/",
          "height": 49,
          "referenced_widgets": [
            "388895f7affb4df584e3d573b843e87c",
            "62f0f9415d8944f2a19639b18f9c83dd",
            "c165238f219f4b2aba23108dec45736a"
          ]
        },
        "outputId": "56888bd8-3f19-4c17-e9bc-552bcc3cdfb0"
      },
      "source": [
        "btn_upload = widgets.FileUpload()\n",
        "btn_upload"
      ],
      "execution_count": 6,
      "outputs": [
        {
          "output_type": "display_data",
          "data": {
            "application/vnd.jupyter.widget-view+json": {
              "model_id": "388895f7affb4df584e3d573b843e87c",
              "version_minor": 0,
              "version_major": 2
            },
            "text/plain": [
              "FileUpload(value={}, description='Upload')"
            ]
          },
          "metadata": {
            "tags": []
          }
        }
      ]
    },
    {
      "cell_type": "code",
      "metadata": {
        "id": "CzAZKPfCwocz",
        "colab_type": "code",
        "colab": {}
      },
      "source": [
        "img = PILImage.create(btn_upload.data[-1])"
      ],
      "execution_count": 7,
      "outputs": []
    },
    {
      "cell_type": "code",
      "metadata": {
        "id": "MAGVfmKZwxYH",
        "colab_type": "code",
        "colab": {
          "base_uri": "https://localhost:8080/",
          "height": 145,
          "referenced_widgets": [
            "0481e44aa21648b99d36f7791e6c48cb",
            "7139c08b0da84002b01d151a40ee6549"
          ]
        },
        "outputId": "0048282f-acc4-4fa8-9479-8189ac2bb338"
      },
      "source": [
        "out_pl = widgets.Output()\n",
        "out_pl.clear_output()\n",
        "with out_pl:\n",
        "  display(img.to_thumb(128,128))\n",
        "out_pl"
      ],
      "execution_count": 8,
      "outputs": [
        {
          "output_type": "display_data",
          "data": {
            "application/vnd.jupyter.widget-view+json": {
              "model_id": "0481e44aa21648b99d36f7791e6c48cb",
              "version_minor": 0,
              "version_major": 2
            },
            "text/plain": [
              "Output()"
            ]
          },
          "metadata": {
            "tags": []
          }
        }
      ]
    },
    {
      "cell_type": "code",
      "metadata": {
        "id": "RLPUJJ5Kw5wf",
        "colab_type": "code",
        "colab": {
          "base_uri": "https://localhost:8080/",
          "height": 49,
          "referenced_widgets": [
            "1a3adf5276204fed9c311bc6fedcb56b",
            "e67f331029a94864a3fdb12018b768f3",
            "5209d145d18d42a09915473d5ab7cfa1"
          ]
        },
        "outputId": "5f7de32e-0aff-481d-ace8-6e1f5dc04d57"
      },
      "source": [
        "pred, pred_idx, probs = learn_inf.predict(img)\n",
        "\n",
        "lbl_pred = widgets.Label()\n",
        "lbl_pred.value = f'Prediction: {pred}; Probability: {probs[pred_idx]:.04f}'\n",
        "lbl_pred"
      ],
      "execution_count": 9,
      "outputs": [
        {
          "output_type": "display_data",
          "data": {
            "text/html": [
              ""
            ],
            "text/plain": [
              "<IPython.core.display.HTML object>"
            ]
          },
          "metadata": {
            "tags": []
          }
        },
        {
          "output_type": "display_data",
          "data": {
            "application/vnd.jupyter.widget-view+json": {
              "model_id": "1a3adf5276204fed9c311bc6fedcb56b",
              "version_minor": 0,
              "version_major": 2
            },
            "text/plain": [
              "Label(value='Prediction: grizzly; Probability: 1.0000')"
            ]
          },
          "metadata": {
            "tags": []
          }
        }
      ]
    },
    {
      "cell_type": "code",
      "metadata": {
        "id": "S1PhAyG3xBzn",
        "colab_type": "code",
        "colab": {}
      },
      "source": [
        "btn_run = widgets.Button(description='Classify')\n",
        "def on_click_classify(change):\n",
        "    img = PILImage.create(btn_upload.data[-1])\n",
        "    \n",
        "    out_pl.clear_output()\n",
        "    with out_pl:\n",
        "      display(img.to_thumb(128,128))\n",
        "    \n",
        "    pred,pred_idx,probs = learn_inf.predict(img)\n",
        "    lbl_pred.value = f'Prediction: {pred}; Probability: {probs[pred_idx]:.04f}'\n",
        "\n",
        "btn_run.on_click(on_click_classify)"
      ],
      "execution_count": 11,
      "outputs": []
    },
    {
      "cell_type": "code",
      "metadata": {
        "id": "Xf5NQodVxGoW",
        "colab_type": "code",
        "colab": {}
      },
      "source": [
        "btn_upload = widgets.FileUpload()"
      ],
      "execution_count": 13,
      "outputs": []
    },
    {
      "cell_type": "code",
      "metadata": {
        "id": "ul5jc5S7xUYN",
        "colab_type": "code",
        "colab": {
          "base_uri": "https://localhost:8080/",
          "height": 273,
          "referenced_widgets": [
            "bd92b042ec974ab19562f5b223c06d64",
            "1d5e45874ee54bf794f38df64e6aa389",
            "19e607f505a8469f861f878d30bf6afa",
            "b201ffe995cf47d989f7b0f3a548d83a",
            "b9fccc8658c64446b02d2874b6197dcf",
            "0481e44aa21648b99d36f7791e6c48cb",
            "1a3adf5276204fed9c311bc6fedcb56b",
            "4bb82bcc4ef041a5ac65eb6243de606e",
            "c487dcf3153540619821fbfd328d3707",
            "e2abb1aaeb704462bcd6dfaf9f57bbeb",
            "fbdbfcd7686f4174a8a566fa58052053",
            "ee25b00affeb4d36a4716580f42a7dd2",
            "a0b6c0d6ff5a4a9ca3efb9fb497e6418",
            "e67f331029a94864a3fdb12018b768f3",
            "5209d145d18d42a09915473d5ab7cfa1",
            "7139c08b0da84002b01d151a40ee6549"
          ]
        },
        "outputId": "4758c7d7-8f96-4014-8fa2-c1652677c311"
      },
      "source": [
        "VBox([widgets.Label('Select your bear!'), \n",
        "      btn_upload, btn_run, out_pl, lbl_pred])"
      ],
      "execution_count": 14,
      "outputs": [
        {
          "output_type": "display_data",
          "data": {
            "application/vnd.jupyter.widget-view+json": {
              "model_id": "bd92b042ec974ab19562f5b223c06d64",
              "version_minor": 0,
              "version_major": 2
            },
            "text/plain": [
              "VBox(children=(Label(value='Select your bear!'), FileUpload(value={}, description='Upload'), Button(descriptio…"
            ]
          },
          "metadata": {
            "tags": []
          }
        },
        {
          "output_type": "display_data",
          "data": {
            "text/html": [
              ""
            ],
            "text/plain": [
              "<IPython.core.display.HTML object>"
            ]
          },
          "metadata": {
            "tags": []
          }
        },
        {
          "output_type": "display_data",
          "data": {
            "text/html": [
              ""
            ],
            "text/plain": [
              "<IPython.core.display.HTML object>"
            ]
          },
          "metadata": {
            "tags": []
          }
        }
      ]
    },
    {
      "cell_type": "code",
      "metadata": {
        "id": "jHNzSM3UyJH5",
        "colab_type": "code",
        "colab": {}
      },
      "source": [
        ""
      ],
      "execution_count": null,
      "outputs": []
    }
  ]
}